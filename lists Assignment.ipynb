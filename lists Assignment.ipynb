{
 "cells": [
  {
   "cell_type": "markdown",
   "id": "feed90e1-2d8d-4043-9b8a-ec25b1a98ad3",
   "metadata": {},
   "source": [
    "1. Creating an empty list - "
   ]
  },
  {
   "cell_type": "code",
   "execution_count": 11,
   "id": "ffc5be49-c8c7-4687-9fe5-9fd4270283b8",
   "metadata": {},
   "outputs": [],
   "source": [
    "l = []"
   ]
  },
  {
   "cell_type": "code",
   "execution_count": 12,
   "id": "5b63b72e-dfe6-4fbc-a924-3720a9dad727",
   "metadata": {},
   "outputs": [
    {
     "data": {
      "text/plain": [
       "[]"
      ]
     },
     "execution_count": 12,
     "metadata": {},
     "output_type": "execute_result"
    }
   ],
   "source": [
    "l"
   ]
  },
  {
   "cell_type": "markdown",
   "id": "636d3d67-08f8-405a-a6a7-6f45de442360",
   "metadata": {},
   "source": [
    "2. Creating a list and adding an element to the end of this list - "
   ]
  },
  {
   "cell_type": "code",
   "execution_count": 43,
   "id": "8550a785-6597-4bc0-9ac8-9c404b1fa89f",
   "metadata": {},
   "outputs": [],
   "source": [
    "l = [1,2,3,4,5,6,9,8]"
   ]
  },
  {
   "cell_type": "code",
   "execution_count": 44,
   "id": "98def583-a01f-4ab0-bb95-404afc2b3ef5",
   "metadata": {},
   "outputs": [],
   "source": [
    "l.append(7)"
   ]
  },
  {
   "cell_type": "code",
   "execution_count": 45,
   "id": "609dd541-424a-4e41-ad5b-3a4f2f23b32c",
   "metadata": {},
   "outputs": [
    {
     "name": "stdout",
     "output_type": "stream",
     "text": [
      "[1, 2, 3, 4, 5, 6, 9, 8, 7]\n"
     ]
    }
   ],
   "source": [
    "print(l)"
   ]
  },
  {
   "cell_type": "markdown",
   "id": "df1422ca-9c14-4838-a24c-70272e6ac40c",
   "metadata": {},
   "source": [
    "3. For the above created list printing the last element - "
   ]
  },
  {
   "cell_type": "code",
   "execution_count": 46,
   "id": "c4594546-4234-4d4d-952d-eabc1663cc97",
   "metadata": {},
   "outputs": [
    {
     "data": {
      "text/plain": [
       "7"
      ]
     },
     "execution_count": 46,
     "metadata": {},
     "output_type": "execute_result"
    }
   ],
   "source": [
    "l.pop()"
   ]
  },
  {
   "cell_type": "markdown",
   "id": "df3a1e4f-35a2-4638-a093-b992f8425635",
   "metadata": {},
   "source": [
    "4. Reversing the above created list -"
   ]
  },
  {
   "cell_type": "code",
   "execution_count": 52,
   "id": "cccf58bb-fec5-4649-8d9c-732870ead7d1",
   "metadata": {},
   "outputs": [],
   "source": [
    "l = [1,2,3,4,5,6,9,8,7]"
   ]
  },
  {
   "cell_type": "code",
   "execution_count": 53,
   "id": "133882e6-5b7a-4aab-888e-991e0e3d816a",
   "metadata": {},
   "outputs": [
    {
     "data": {
      "text/plain": [
       "[7, 8, 9, 6, 5, 4, 3, 2, 1]"
      ]
     },
     "execution_count": 53,
     "metadata": {},
     "output_type": "execute_result"
    }
   ],
   "source": [
    "l[::-1]"
   ]
  },
  {
   "cell_type": "markdown",
   "id": "45ade5d4-2999-4521-a2a4-6e560d45e25c",
   "metadata": {},
   "source": [
    "5. Sorting the above created list-"
   ]
  },
  {
   "cell_type": "code",
   "execution_count": 54,
   "id": "81abf1d4-51c8-42e8-a83c-74072f8654ed",
   "metadata": {},
   "outputs": [],
   "source": [
    "l = [1,2,3,4,5,6,9,8,7]"
   ]
  },
  {
   "cell_type": "code",
   "execution_count": 55,
   "id": "da0917e1-2164-4d8b-a6ec-1a45cfff2af1",
   "metadata": {},
   "outputs": [],
   "source": [
    "l.sort()"
   ]
  },
  {
   "cell_type": "code",
   "execution_count": 56,
   "id": "a5a61166-b362-4e7b-acef-84bfa3cad79c",
   "metadata": {},
   "outputs": [
    {
     "name": "stdout",
     "output_type": "stream",
     "text": [
      "[1, 2, 3, 4, 5, 6, 7, 8, 9]\n"
     ]
    }
   ],
   "source": [
    "print(l)"
   ]
  },
  {
   "cell_type": "markdown",
   "id": "c0a0f045-0e90-4eb7-92e6-2fd0d8735fcc",
   "metadata": {},
   "source": [
    "6. Creating a list of my top three favorite movies, then printing the second movie title - "
   ]
  },
  {
   "cell_type": "code",
   "execution_count": 65,
   "id": "1040e0d9-b7bf-43ae-8bd0-3b7c05de153f",
   "metadata": {},
   "outputs": [],
   "source": [
    "l = [ 'Jungle Cruise', 'Rampage', 'The Meg']"
   ]
  },
  {
   "cell_type": "code",
   "execution_count": 66,
   "id": "3bd71d1f-6abe-41f5-9011-ba51cc1f1e0c",
   "metadata": {},
   "outputs": [
    {
     "data": {
      "text/plain": [
       "'Rampage'"
      ]
     },
     "execution_count": 66,
     "metadata": {},
     "output_type": "execute_result"
    }
   ],
   "source": [
    "l[1]"
   ]
  },
  {
   "cell_type": "markdown",
   "id": "a06c9f6c-e3aa-43f9-90bd-40fcef7ac53b",
   "metadata": {},
   "source": [
    "7. Creating a list of my favorite animals, then adding a new animal to the list and printing the updated list -"
   ]
  },
  {
   "cell_type": "code",
   "execution_count": 60,
   "id": "7fa0fb94-c5ee-4fba-b994-82e47d955563",
   "metadata": {},
   "outputs": [],
   "source": [
    "l = [ 'Dog', 'Dolphin', 'Elephant']"
   ]
  },
  {
   "cell_type": "code",
   "execution_count": 61,
   "id": "06fd2e0f-6043-4550-9723-1af134e74087",
   "metadata": {},
   "outputs": [],
   "source": [
    "l.append('Tiger')"
   ]
  },
  {
   "cell_type": "code",
   "execution_count": 62,
   "id": "99989be3-af68-4170-9851-9b5923b9a523",
   "metadata": {},
   "outputs": [
    {
     "name": "stdout",
     "output_type": "stream",
     "text": [
      "['Dog', 'Dolphin', 'Elephant', 'Tiger']\n"
     ]
    }
   ],
   "source": [
    "print(l)"
   ]
  },
  {
   "cell_type": "markdown",
   "id": "d354b23d-a752-4842-8243-36add336418f",
   "metadata": {},
   "source": [
    "8. Creating a list of my favorite cities, then using the index() method to find the position of a specific city on the list and print it."
   ]
  },
  {
   "cell_type": "code",
   "execution_count": 67,
   "id": "0349ff54-965e-40c1-855d-aff604bdfe03",
   "metadata": {},
   "outputs": [],
   "source": [
    "l = ['Ahmedabad', 'Bangalore', 'Chennai', 'Kolkata']"
   ]
  },
  {
   "cell_type": "code",
   "execution_count": 68,
   "id": "e2f3c2af-5b35-4255-b64f-653957dd2fec",
   "metadata": {},
   "outputs": [
    {
     "data": {
      "text/plain": [
       "1"
      ]
     },
     "execution_count": 68,
     "metadata": {},
     "output_type": "execute_result"
    }
   ],
   "source": [
    "l.index('Bangalore')"
   ]
  },
  {
   "cell_type": "code",
   "execution_count": 69,
   "id": "c9c38162-8f7a-44e3-bc76-6c906e60d051",
   "metadata": {},
   "outputs": [
    {
     "name": "stdout",
     "output_type": "stream",
     "text": [
      "['Ahmedabad', 'Bangalore', 'Chennai', 'Kolkata']\n"
     ]
    }
   ],
   "source": [
    "print(l)"
   ]
  },
  {
   "cell_type": "code",
   "execution_count": null,
   "id": "54df99c1-5ecb-4e49-87f1-c6602898a84c",
   "metadata": {},
   "outputs": [],
   "source": []
  }
 ],
 "metadata": {
  "kernelspec": {
   "display_name": "Python 3 (ipykernel)",
   "language": "python",
   "name": "python3"
  },
  "language_info": {
   "codemirror_mode": {
    "name": "ipython",
    "version": 3
   },
   "file_extension": ".py",
   "mimetype": "text/x-python",
   "name": "python",
   "nbconvert_exporter": "python",
   "pygments_lexer": "ipython3",
   "version": "3.10.8"
  }
 },
 "nbformat": 4,
 "nbformat_minor": 5
}
